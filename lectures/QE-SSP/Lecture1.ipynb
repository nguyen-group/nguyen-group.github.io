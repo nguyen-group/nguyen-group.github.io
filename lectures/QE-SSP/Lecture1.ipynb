{
 "cells": [
  {
   "cell_type": "markdown",
   "metadata": {
    "id": "uDQYZDh0ciGP"
   },
   "source": [
    "# Introduction"
   ]
  },
  {
   "cell_type": "markdown",
   "metadata": {},
   "source": [
    "<div style=\"background-color: #f8d7da; border-left: 6px solid #ccc; margin: 20px; padding: 15px;\">\n",
    "    <strong>💡 Ada Lovelace:</strong> The more I study, the more insatiable do I feel my genius for it to be.\n",
    "</div>"
   ]
  },
  {
   "cell_type": "markdown",
   "metadata": {
    "id": "qlQmXeW3ciGS"
   },
   "source": [
    "<iframe class=\"speakerdeck-iframe\" frameborder=\"0\" src=\"https://speakerdeck.com/player/3be55cc221ec446eb79c9b2a77fe695e\" title=\"Machine Learning for Materials (Lecture 1)\" allowfullscreen=\"true\" style=\"border: 0px; background-clip: padding-box; background-color: rgba(0, 0, 0, 0.1); margin: 0px; padding: 0px; border-radius: 6px; box-shadow: rgba(0, 0, 0, 0.2) 0px 5px 40px; width: 100%; height: auto; aspect-ratio: 560 / 420;\" data-ratio=\"1.3333333333333333\"></iframe>\n",
    "\n",
    "[Lecture slides](https://speakerdeck.com/aronwalsh/machine-learning-for-materials-lecture-1)"
   ]
  },
  {
   "cell_type": "markdown",
   "metadata": {
    "id": "aB6tYmdQciGS",
    "tags": []
   },
   "source": [
    "## 👋 Getting started\n",
    "\n",
    "Welcome to our first practical session!\n",
    "\n",
    "This is a Jupyter Notebook loaded inside a Jupyter Book. They are part of [Project Jupyter](https://jupyter.org), a suite of open-source tools. A Jupyter Notebook also allows you to run and easily share computer code. This combination makes Jupyter notebooks a useful tool for analysing data.\n",
    "\n",
    "Unlike spreadsheets or combinations of separate data analysis codes, you can collect descriptions and notes for individual experiments, links to the raw data collected, the computer code that performs any necessary data analysis, and the final figures generated with these data, ready for use in a report or published paper.\n",
    "\n",
    "There are a few components to be aware of:\n",
    "\n",
    "### Python\n",
    "A working knowledge of the [Python](https://www.python.org) programming language is assumed for this course. If you are rusty, Chapters 1-4 of [Datacamp](https://www.datacamp.com/courses/intro-to-python-for-data-science) cover the base concepts, as do many other online resources including Imperial's [Introduction to Python](https://www.imperial.ac.uk/students/academic-support/graduate-school/professional-development/doctoral-students/research-computing-data-science/courses/python-for-researchers) course.\n",
    "\n",
    "<style>\n",
    "  .question-group {\n",
    "    margin-bottom: 15px; /* Adds space between question sections */\n",
    "  }\n",
    "\n",
    "  .question-group div {\n",
    "    margin-bottom: 5px; /* Adds space between individual options */\n",
    "  }\n",
    "</style>\n",
    "\n",
    "<div class=\"question-group\">\n",
    "  <p>Choose your degree programme:</p>\n",
    "  <div>\n",
    "    <input type=\"checkbox\" name=\"uchk\" id=\"meng\">\n",
    "    <label for=\"meng\">MEng</label>\n",
    "  </div>\n",
    "  <div>\n",
    "    <input type=\"checkbox\" name=\"uchk\" id=\"msc\">\n",
    "    <label for=\"msc\">MSc</label>\n",
    "  </div>\n",
    "</div>\n",
    "\n",
    "<div class=\"question-group\">\n",
    "  <p>If MSc, have you completed the introductory Python course:</p>\n",
    "  <div>\n",
    "    <input type=\"checkbox\" name=\"uchk\" id=\"yes\">\n",
    "    <label for=\"yes\">Yes</label>\n",
    "  </div>\n",
    "  <div>\n",
    "    <input type=\"checkbox\" name=\"uchk\" id=\"no\">\n",
    "    <label for=\"no\">No</label>\n",
    "  </div>\n",
    "</div>\n",
    "\n",
    "<div class=\"question-group\">\n",
    "  <p>Rate your current Python level:</p>\n",
    "  <div>\n",
    "    <input type=\"checkbox\" name=\"uchk\" id=\"beginner\">\n",
    "    <label for=\"beginner\">Beginner</label>\n",
    "  </div>\n",
    "  <div>\n",
    "    <input type=\"checkbox\" name=\"uchk\" id=\"intermediate\">\n",
    "    <label for=\"intermediate\">Intermediate</label>\n",
    "  </div>\n",
    "  <div>\n",
    "    <input type=\"checkbox\" name=\"uchk\" id=\"advanced\">\n",
    "    <label for=\"advanced\">Advanced</label>\n",
    "  </div>\n",
    "</div>\n",
    "\n",
    "### Markdown\n",
    "Markdown is a markup language that allows easy formatting of text. It is widely used for creating and formatting online content. It is easier to read and write than html. A guide to the syntax can be found [here](https://www.markdownguide.org/basic-syntax/).\n",
    "\n",
    "```\n",
    "# Heading\n",
    "## Smaller heading\n",
    "### Even smaller heading\n",
    "```\n",
    "\n",
    "### Github\n",
    "[GitHub](https://github.com) is a platform for writing and sharing code. There are many materials science projects hosted there, which enable researchers from around the world to contribute to their development. These notebooks are hosted on GitHub too. If you find an error, you can raise an [issue](https://github.com/aronwalsh/MLforMaterials/issues) or even better fix it yourself with a [pull request](https://docs.github.com/en/pull-requests/collaborating-with-pull-requests/proposing-changes-to-your-work-with-pull-requests/about-pull-requests).\n",
    "\n",
    "### Live coding\n",
    "The weekly notebooks are designed to be run online directly in your browser. You can activate the server by clicking the rocket icon on the top right and selecting `Live Code`. There is an option to open in [Binder](https://mybinder.org) or [Google Colab](https://colab.research.google.com). Colab is more powerful, but the formatting won't be as nice. You can opt to install Python on your own computer with [Anaconda](https://www.anaconda.com/products/distribution) and run the notebooks locally, but we do not offer support if things go wrong."
   ]
  },
  {
   "cell_type": "markdown",
   "metadata": {
    "id": "95tjL6dJciGU"
   },
   "source": [
    "## Analyse data with code\n",
    "\n",
    "By programming a series of instructions, researchers can consistently obtain the same results from a given dataset. This approach enables us to share datasets and code, allowing other scientists to review, repeat and reuse the analysis.  The transparency and reproducibility of code-based analysis enhances research integrity and credibility, while minimising errors. It also enables efficient handling of large datasets and complex calculations, accelerating the exploration of different techniques.\n",
    "\n",
    "### Running code\n",
    "\n",
    "Different programming languages can be used in Jupyter notebooks. We will be using Python 3. The large scientific community for Python means that well-developed resources exist for data processing and specific prewritten tools for manipulating and plotting data.\n",
    "\n",
    "Any code typed into a code cell can be run (executed) by pressing the `run` button. You can also run the selected code block using `Shift-Enter` combination on your keyboard."
   ]
  },
  {
   "cell_type": "code",
   "execution_count": null,
   "metadata": {
    "colab": {
     "base_uri": "https://localhost:8080/"
    },
    "collapsed": false,
    "id": "wCimyGVFciGU",
    "jupyter": {
     "outputs_hidden": false
    },
    "outputId": "6f46572f-a956-4342-def3-8713a99c224d"
   },
   "outputs": [],
   "source": [
    "2+3 # run this cell"
   ]
  },
  {
   "cell_type": "code",
   "execution_count": null,
   "metadata": {
    "colab": {
     "base_uri": "https://localhost:8080/"
    },
    "collapsed": false,
    "id": "2VOKhE8pciGW",
    "jupyter": {
     "outputs_hidden": false
    },
    "outputId": "c14bdab6-a0e1-4181-b0bb-dc43afb85865"
   },
   "outputs": [],
   "source": [
    "print(\"Beware of 小妖精\") # anything after '#' is a comment and ignored"
   ]
  },
  {
   "cell_type": "code",
   "execution_count": null,
   "metadata": {
    "colab": {
     "base_uri": "https://localhost:8080/"
    },
    "collapsed": false,
    "id": "iRqw3mAwciGW",
    "jupyter": {
     "outputs_hidden": false
    },
    "outputId": "e774b03f-36f0-420c-9d2d-d29426602fa3"
   },
   "outputs": [],
   "source": [
    "12*2.40*3737*12 # you get the idea"
   ]
  },
  {
   "cell_type": "code",
   "execution_count": null,
   "metadata": {
    "colab": {
     "base_uri": "https://localhost:8080/"
    },
    "collapsed": false,
    "id": "unZ26LEociGW",
    "jupyter": {
     "outputs_hidden": false
    },
    "outputId": "65ccf1d5-52a2-49c7-dec9-6999d12ddd8e"
   },
   "outputs": [],
   "source": [
    "2**1000 - 2 # a big number"
   ]
  },
  {
   "cell_type": "code",
   "execution_count": null,
   "metadata": {
    "colab": {
     "base_uri": "https://localhost:8080/"
    },
    "collapsed": false,
    "id": "MyM32PMxciGW",
    "jupyter": {
     "outputs_hidden": false
    },
    "outputId": "a53bd082-8a05-4dbf-c5cb-807809c725aa"
   },
   "outputs": [],
   "source": [
    "import math as m # import a math module\n",
    "m.pi"
   ]
  },
  {
   "cell_type": "code",
   "execution_count": null,
   "metadata": {
    "colab": {
     "base_uri": "https://localhost:8080/"
    },
    "collapsed": false,
    "id": "P574cgsSciGX",
    "jupyter": {
     "outputs_hidden": false
    },
    "outputId": "a1f16417-6f1d-417b-b6ad-5ab5321a5dfd"
   },
   "outputs": [],
   "source": [
    "20*m.atan(1/7)+8*m.atan(3/79) # Euler's approximation"
   ]
  },
  {
   "cell_type": "markdown",
   "metadata": {
    "id": "5B698R2pciGX"
   },
   "source": [
    "### Plotting with Matplotlib"
   ]
  },
  {
   "cell_type": "markdown",
   "metadata": {
    "id": "neke0J4KifCW"
   },
   "source": [
    "Let's import the package [Matplotlib](https://matplotlib.org), which we will be using a lot for data visualisation."
   ]
  },
  {
   "cell_type": "code",
   "execution_count": null,
   "metadata": {
    "colab": {
     "base_uri": "https://localhost:8080/",
     "height": 448
    },
    "collapsed": false,
    "id": "oyBEOTXociGX",
    "jupyter": {
     "outputs_hidden": false
    },
    "outputId": "8b8a7522-08e3-4235-b064-f64adbf1b6b1",
    "tags": []
   },
   "outputs": [],
   "source": [
    "# Imports\n",
    "import matplotlib.pyplot as plt  # Plotting\n",
    "import numpy as np  # Numerical operations\n",
    "%matplotlib inline\n",
    "\n",
    "x = np.arange(0, 10, 0.001) # x = 0 to 10 in steps of 0.001\n",
    "y = np.sin(x*x) # define your function\n",
    "plt.figure(figsize=(5, 3)) # create a new figure (5x3 inches)\n",
    "plt.plot(,y) # plot x against y"
   ]
  },
  {
   "cell_type": "markdown",
   "metadata": {
    "id": "lxLc8V4tb5zh"
   },
   "source": [
    "<details>\n",
    "<summary> Code hint </summary>\n",
    "You need to plot x vs y. Fix the plot command to (x,y).\n",
    "</details>"
   ]
  },
  {
   "cell_type": "markdown",
   "metadata": {
    "id": "Z8_nYqMH2MW9"
   },
   "source": [
    "### Using a DataFrame\n",
    "\n",
    "A DataFrame organises data into a 2-dimensional table of rows and columns, much like a spreadsheet. They are useful tools to store, access, and modify large sets of data. \n",
    "\n",
    "In this module, we'll make use of [Pandas](https://pandas.pydata.org) to process input and output data for our machine learning models."
   ]
  },
  {
   "cell_type": "code",
   "execution_count": null,
   "metadata": {
    "colab": {
     "base_uri": "https://localhost:8080/"
    },
    "id": "UamDrzLn2LoS",
    "outputId": "47b9cf3b-9333-46d7-e785-d0b936bbc93e",
    "tags": []
   },
   "outputs": [],
   "source": [
    "import pandas as pd  # Data manipulation using DataFrames\n",
    "\n",
    "df = pd.DataFrame() # This instantiates an empty pandas DataFrame\n",
    "\n",
    "data = {\n",
    "    \"Element\" : ['C', 'O', 'Fe', 'Mg', 'Xe'],\n",
    "    \"Atomic Number\" : [6, 8, 26, 12, 54],\n",
    "    \"Atomic Mass\" : [12, 16, 56, 24, 131]\n",
    "}\n",
    "\n",
    "# Let's try loading data into DataFrame df\n",
    "df = pd.DataFrame(data)\n",
    "\n",
    "# We can make the 'Element' column the index using the set_index function\n",
    "df = df.set_index(\"Element\")\n",
    "\n",
    "# Printing the values in the 'Atomic Number' column\n",
    "print(df[\"Atom Number\"])"
   ]
  },
  {
   "cell_type": "markdown",
   "metadata": {
    "id": "BOl6MmQuifCW",
    "tags": []
   },
   "source": [
    "<details>\n",
    "<summary> Code hint </summary>\n",
    "Check you are printing the correct column name. Try out some of the other options.\n",
    "</details>"
   ]
  },
  {
   "cell_type": "code",
   "execution_count": null,
   "metadata": {
    "colab": {
     "base_uri": "https://localhost:8080/"
    },
    "id": "gcUlJMzWb5zi",
    "outputId": "7bb8809f-3477-4593-f177-857e9bc1a1b4",
    "tags": []
   },
   "outputs": [],
   "source": [
    "# Add a new column\n",
    "df[\"Energy (eV)\"] = [5.47, 5.14, 0.12, 4.34, 7.01]\n",
    "\n",
    "print(df[\"Energy (eV)\"])"
   ]
  },
  {
   "cell_type": "code",
   "execution_count": null,
   "metadata": {
    "colab": {
     "base_uri": "https://localhost:8080/"
    },
    "id": "HxPmwuvub5zi",
    "outputId": "bbe23a6f-6569-40dc-d5ed-64431df3a9be",
    "tags": []
   },
   "outputs": [],
   "source": [
    "# Print a row from the DataFrame\n",
    "\n",
    "# The df.loc[index] function to print the entry \"C\"\n",
    "print(df.loc[''])\n",
    "\n",
    "print('-----')\n",
    "\n",
    "# The df.iloc[index] function to print the first entry (counting starts at 0...)\n",
    "print(df.iloc[0])"
   ]
  },
  {
   "cell_type": "markdown",
   "metadata": {
    "id": "LsKd-p8Ob5zi"
   },
   "source": [
    "<details>\n",
    "<summary> Code hint </summary>\n",
    "You need to tell `df.loc` what to look for. Put an element name in between the quotes.\n",
    "</details>"
   ]
  },
  {
   "cell_type": "markdown",
   "metadata": {
    "id": "Ug7HnFwUciGX"
   },
   "source": [
    "### Write an equation"
   ]
  },
  {
   "cell_type": "markdown",
   "metadata": {
    "id": "tlakAjCMciGX"
   },
   "source": [
    "This equation is written in [LaTeX](https://www.overleaf.com/learn/latex/Learn_LaTeX_in_30_minutes) format. It's easy to learn and useful for complex expressions, e.g. `\\frac{x}{y}` writes x/y as a fraction $\\dfrac{x}{y}$.\n",
    "\n",
    "`$-\\frac{\\hslash^2}{2m} \\, \\frac{\\partial^2 \\psi}{\\partial x^2}$`\n",
    "\n",
    "renders as\n",
    "\n",
    "$-\\dfrac{\\hslash^2}{2m} \\, \\dfrac{\\partial^2 \\psi}{\\partial x^2}$"
   ]
  },
  {
   "cell_type": "markdown",
   "metadata": {
    "id": "6LT9mCDQciGX"
   },
   "source": [
    "### Link an image"
   ]
  },
  {
   "cell_type": "markdown",
   "metadata": {
    "id": "oteHuO9DciGY"
   },
   "source": [
    "The syntax employed here is Markdown. It can be used in notebooks, is popular on Github for documentation, and can even be a fast way to take notes during lectures.\n",
    "\n",
    "`![](https://media.giphy.com/media/cxk3z6nMhpf7a/giphy.gif)`\n",
    "\n",
    "which renders as\n",
    "\n",
    "![](https://media.giphy.com/media/cxk3z6nMhpf7a/giphy.gif)"
   ]
  },
  {
   "cell_type": "markdown",
   "metadata": {
    "id": "8uepYP7rciGY"
   },
   "source": [
    "## Computational science\n",
    "\n",
    "### Thermally-actived diffusion\n",
    "\n",
    "Ion transport in crystals is a fundamental process that underpins various technological applications, from batteries to semiconductor devices. Understanding the kinetics of ion movement within and between materials is crucial for optimising device performance.\n",
    "\n",
    "Like many chemical processes, solid-state diffusion transport is thermally activated. We can describe ion motion in a crystal using a familiar Arrhenius relationship.\n",
    "\n",
    "The diffusion coefficient of a species is given by $D_{ion} = D_0 \\cdot e^{-(\\frac{\\Delta E_a}{k_BT})}$, where:\n",
    "- $D_{ion}$ is the diffusion coefficient for a particular ion,\n",
    "- $D_0$ is the temperature-independent prefactor (containing an attempt frequency),\n",
    "- $\\Delta E_a$ is the activation energy for diffusion,\n",
    "- $k_B$ is the Boltzmann constant, and\n",
    "- $T$ is the temperature.\n",
    "\n",
    "Let's write a function for it, which will take advantage of the wonderful [NumPy](https://numpy.org) package. It also uses the [physical constants](https://docs.scipy.org/doc/scipy/reference/constants.html#physical-constants) in [SciPy](https://scipy.org), and explains the function with a [docstring](https://en.wikipedia.org/wiki/Docstring)."
   ]
  },
  {
   "cell_type": "code",
   "execution_count": null,
   "metadata": {
    "tags": []
   },
   "outputs": [],
   "source": [
    "import numpy as np\n",
    "from scipy.constants import physical_constants\n",
    "\n",
    "# Define constants\n",
    "k_B = physical_constants['Boltzmann constant in eV/K'][0]\n",
    "\n",
    "# Arrhenius function\n",
    "def arrhenius(activation_energy, temperature, D0=1):\n",
    "    \"\"\"\n",
    "    Calculates the rate using the Arrhenius equation.\n",
    "    \n",
    "    Parameters:\n",
    "    activation_energy (float): the activation energy in eV.\n",
    "    temperature (float): the temperature in K (must be > 0).\n",
    "    D0 (float): the pre-exponential factor (default is 1).\n",
    "    \n",
    "    Returns:\n",
    "    float: the rate of the reaction.\n",
    "    \"\"\"\n",
    "    if np.any(temperature <= 0):\n",
    "        raise ValueError(\"Temperature must be greater than 0 K\")\n",
    "    return D0 * np.exp(-activation_energy / (k_B * temperature))"
   ]
  },
  {
   "cell_type": "markdown",
   "metadata": {
    "id": "R8aKxKtuciGY"
   },
   "source": [
    "This function takes `activation_energy` (eV) and `temperature` (K) as inputs and returns the corresponding diffusion coefficient. Recall that the units of the exponential term cancel out, so $D_{ion}$ takes the same units as $D_0$. Now let's use the function:"
   ]
  },
  {
   "cell_type": "code",
   "execution_count": null,
   "metadata": {
    "colab": {
     "base_uri": "https://localhost:8080/"
    },
    "id": "gO22e47tciGY",
    "outputId": "7f1557d3-674b-45b3-e878-7de2021946ae",
    "tags": []
   },
   "outputs": [],
   "source": [
    " # Call the function for Ea = 0.12 eV; T = 1000 K\n",
    "arrhenius(0.12, 1000) "
   ]
  },
  {
   "cell_type": "markdown",
   "metadata": {
    "id": "7rMW0e9bciGY"
   },
   "source": [
    "This value tells us the likelihood that each attempt has of overcoming the thermodynamic barrier for ionic diffusion. Decrease the temperature to 100 K and see the difference.\n",
    "\n",
    "Now let's take advantage of the function to make a plot. We will use the numpy function `linspace`, which is documented over [here](https://numpy.org/doc/stable/reference/generated/numpy.linspace.html). It is used here to generate 100 numbers evenly spaced between 100 and 5000 that represent the temperature range of our \"experiments\"."
   ]
  },
  {
   "cell_type": "code",
   "execution_count": null,
   "metadata": {
    "colab": {
     "base_uri": "https://localhost:8080/",
     "height": 472
    },
    "id": "WkWCrwDsb5zj",
    "outputId": "f4fade20-aa13-4ab5-9ba9-c6434e97e16b",
    "tags": []
   },
   "outputs": [],
   "source": [
    "import matplotlib.pyplot as plt\n",
    "\n",
    "# Pre-exponential term in cm^2/s\n",
    "D0 = 0.5\n",
    "\n",
    "# Range of activation energies in eV\n",
    "activation_energies = np.linspace(0.1, 1, 0) # Range from 0.1 to 1 eV in n steps\n",
    "\n",
    "# Temperature range in K\n",
    "T = np.linspace(100, 5000, 100)\n",
    "\n",
    "# Calculate rates and plot curves\n",
    "plt.figure(figsize=(5, 3)) \n",
    "\n",
    "for activation_energy in activation_energies:\n",
    "    rates = arrhenius(activation_energy, T, D0)\n",
    "    plt.plot(T, rates, label=f'{activation_energy:.1f} eV')\n",
    "\n",
    "plt.xlabel('Temperature (K)')\n",
    "plt.ylabel('$D_{ion}$ (cm$^2$/s)') \n",
    "plt.title('Varying activation energy')\n",
    "plt.legend()\n",
    "plt.grid(True)\n",
    "plt.show()"
   ]
  },
  {
   "cell_type": "markdown",
   "metadata": {
    "id": "8DvhjGpCb5zk"
   },
   "source": [
    "<details>\n",
    "<summary> Code hint </summary>\n",
    "'np.linspace' requires three arguments (start, stop, number of points). 0 points won't work. Try changing it to 5.\n",
    "</details>"
   ]
  },
  {
   "cell_type": "markdown",
   "metadata": {
    "id": "uWlaJMBQciGZ"
   },
   "source": [
    "To better visualise the trends, we can make an Arrhenius plot by plotting the natural logarithm of $D$ versus the inverse temperature, 1/T.  We use 1000/T to give a nicer range on the $x$-axis."
   ]
  },
  {
   "cell_type": "code",
   "execution_count": null,
   "metadata": {
    "colab": {
     "base_uri": "https://localhost:8080/",
     "height": 472
    },
    "id": "7Wgi_g2wciGZ",
    "outputId": "8b602c70-d78e-40c2-a00b-226582c57e43",
    "tags": []
   },
   "outputs": [],
   "source": [
    "# Plotting ln(R) vs 1000/T\n",
    "plt.figure(figsize=(5, 3)) \n",
    "\n",
    "for activation_energy in activation_energies:\n",
    "    rates = arrhenius(activation_energy, T, D0)\n",
    "    plt.plot(1000/T, np.log(rates), label=f'{activation_energy:.1f} eV')\n",
    "\n",
    "plt.xlabel('1000 / Temperature (1/K)')\n",
    "plt.ylabel('ln($D_{ion}$)')\n",
    "plt.title('Arrhenius plot')\n",
    "plt.legend()\n",
    "plt.grid(True)\n",
    "plt.show()"
   ]
  },
  {
   "cell_type": "markdown",
   "metadata": {
    "id": "GzN2cRN0ciGZ"
   },
   "source": [
    "The last technique to pick up in this class is data fitting. Later in the module, we will use more complex functions in high dimensions, but let's start with linear regression. There is no need to code this by hand as we can use a [function](https://scikit-learn.org/stable/modules/generated/sklearn.linear_model.LinearRegression.html) in the machine learning package [scikit-learn](https://scikit-learn.org). The real power of Python is the quality and quantity of available libraries such as this one."
   ]
  },
  {
   "cell_type": "code",
   "execution_count": null,
   "metadata": {
    "colab": {
     "base_uri": "https://localhost:8080/"
    },
    "id": "8eOomWxMb5zk",
    "outputId": "b3cf49b2-076a-42c0-a274-486f7270b0ad",
    "tags": []
   },
   "outputs": [],
   "source": [
    "import numpy as np\n",
    "import pandas as pd\n",
    "\n",
    "num_points =  # Number of data points to generate\n",
    "\n",
    "# Generate random x-y data points\n",
    "x_data = np.random.uniform(0, 10, num_points)  # Adjust the range as needed\n",
    "y_data = np.random.uniform(0, 10, num_points)\n",
    "\n",
    "# Create a DataFrame\n",
    "data = {'X': x_data, 'Y': y_data}\n",
    "df = pd.DataFrame(data)\n",
    "\n",
    "# Print the DataFrame\n",
    "print(df)"
   ]
  },
  {
   "cell_type": "markdown",
   "metadata": {
    "id": "Ewl5y52Hb5zk"
   },
   "source": [
    "<details>\n",
    "<summary> Code hint </summary>\n",
    "Again you need to choose the number of points. 50 should be fine, but you have the power to decide.\n",
    "</details>"
   ]
  },
  {
   "cell_type": "code",
   "execution_count": null,
   "metadata": {
    "colab": {
     "base_uri": "https://localhost:8080/",
     "height": 472
    },
    "id": "eWwUdHjGciGZ",
    "outputId": "c733327e-7559-4f0b-c029-aaf1d843855f",
    "tags": []
   },
   "outputs": [],
   "source": [
    "from sklearn.linear_model import LinearRegression\n",
    "from sklearn.metrics import r2_score, mean_squared_error\n",
    "\n",
    "# Perform linear regression\n",
    "X = df['X'].values.reshape(-1, 1)  # Reshape X for compatibility with sklearn\n",
    "y = df['Y'].values\n",
    "model = LinearRegression().fit(X, y)\n",
    "y_pred = model.predict(X)\n",
    "\n",
    "# Calculate error bars\n",
    "residuals = y - y_pred\n",
    "error_bars = np.abs(residuals)\n",
    "\n",
    "# Plot the linear regression line\n",
    "plt.figure(figsize=(5, 3)) \n",
    "plt.errorbar(df['X'], df['Y'], yerr=error_bars, fmt='o', color='skyblue', label='Prediction errors')\n",
    "plt.scatter(df['X'], df['Y'])\n",
    "plt.plot(df['X'], y_pred, color='red', label='Regression line')\n",
    "plt.xlabel('X')\n",
    "plt.ylabel('Y')\n",
    "plt.title('Linear regression')\n",
    "plt.legend()\n",
    "plt.show()"
   ]
  },
  {
   "cell_type": "markdown",
   "metadata": {
    "id": "nCig-VAmciGZ"
   },
   "source": [
    "There are a number of useful analysis tools built into `sklearn`, which we can use to probe the model properties."
   ]
  },
  {
   "cell_type": "code",
   "execution_count": null,
   "metadata": {
    "tags": []
   },
   "outputs": [],
   "source": [
    "# Print the model parameters and performance\n",
    "try:\n",
    "    print(f'Slope: {model2.coef_[0]:.2f}')  # Assuming model.coef_ might be an array for multidimensional X\n",
    "    print(f'Intercept: {model2.intercept_:.2f}')\n",
    "    print(f'R^2 Score: {r2_score(y, y_pred):.3f}')  # R^2 - coefficient of determination\n",
    "    print(f'RMSE: {np.sqrt(mean_squared_error(y, y_pred)):.3f}')  # Root Mean Squared Error\n",
    "except Exception as e:\n",
    "    print(\"Error in calculating model parameters or performance metrics:\", e)"
   ]
  },
  {
   "cell_type": "markdown",
   "metadata": {
    "id": "7K-w3ba2b5zs"
   },
   "source": [
    "<details>\n",
    "<summary> Code hint </summary>\n",
    "Your model is not called `model2`. Try changing the name.\n",
    "</details>"
   ]
  },
  {
   "cell_type": "markdown",
   "metadata": {
    "id": "2D92BAYzciGa"
   },
   "source": [
    "## 🚨 Exercise 1\n",
    "\n",
    "<div style=\"background-color: #dceefb; border-left: 6px solid #ccc; margin: 20px; padding: 15px; border-radius: 5px;\">\n",
    "    <strong>💡 Coding exercises:</strong> The exercises are designed to apply what you have learned with room for creativity. It is fine to discuss solutions with your classmates, but the actual code should not be directly copied.\n",
    "</div>\n",
    "\n",
    "### Your details"
   ]
  },
  {
   "cell_type": "code",
   "execution_count": null,
   "metadata": {
    "colab": {
     "base_uri": "https://localhost:8080/"
    },
    "id": "xqgBbaSjb5zs",
    "outputId": "27965ae7-5d0b-40f2-f4ae-7757939dfb1d",
    "tags": []
   },
   "outputs": [],
   "source": [
    "import numpy as np\n",
    "\n",
    "# Insert your values\n",
    "Name = \"No Name\" # Replace with your name\n",
    "CID = 123446 # Replace with your College ID (as a numeric value with no leading 0s)\n",
    "\n",
    "# Set a random seed using the CID value\n",
    "CID = int(CID)\n",
    "np.random.seed(CID)\n",
    "\n",
    "# Print the message\n",
    "print(\"This is the work of \" + Name + \" [CID: \" + str(CID) + \"]\")"
   ]
  },
  {
   "cell_type": "markdown",
   "metadata": {
    "id": "DIia0_h9ciGa"
   },
   "source": [
    "### Problem\n",
    "\n",
    "Due to their importance in the electronics industry, the diffusion of atoms in semiconductors has been well studied for decades. Below is a set of data for impurity diffusion in crystalline Si [Source: [Casey and Pearson (1975)](https://link.springer.com/chapter/10.1007/978-1-4684-0904-8_2)]. It has been arranged into a DataFrame for your convenience.\n",
    "\n",
    "```python\n",
    "import pandas as pd\n",
    "\n",
    "data = {\n",
    "    'Impurity': ['B', 'Al', 'Ga', 'In', 'P', 'As', 'Sb', 'Bi'],\n",
    "    'Mass': [10.81, 26.98, 69.72, 114.82, 30.97, 74.92, 121.76, 208.98], # atomic mass in g/mol\n",
    "    'D0': [5.1, 8.0, 3.6, 16.5, 10.5, 60.0, 12.9, 1.03E3],  # cm2/sec\n",
    "    'Eact': [3.70, 3.47, 3.51, 3.91, 3.69, 4.20, 3.98, 4.63]  # eV\n",
    "}\n",
    "\n",
    "df = pd.DataFrame(data)\n",
    "print(df)\n",
    "```\n",
    "\n",
    "Two tasks will be given in class."
   ]
  },
  {
   "cell_type": "code",
   "execution_count": null,
   "metadata": {
    "colab": {
     "base_uri": "https://localhost:8080/",
     "height": 472
    },
    "id": "g01sLM1xifCa",
    "outputId": "6d0c3d79-37f3-4dc4-d246-b069fc19e7ae",
    "tags": []
   },
   "outputs": [],
   "source": [
    "#Empty block for your answers\n",
    "\n",
    "\n"
   ]
  },
  {
   "cell_type": "code",
   "execution_count": null,
   "metadata": {
    "id": "wh5CNdABifCa"
   },
   "outputs": [],
   "source": [
    "#Empty block for your answers\n",
    "\n",
    "\n"
   ]
  },
  {
   "cell_type": "markdown",
   "metadata": {},
   "source": [
    "<div style=\"background-color: #d4edda; border-left: 6px solid #ccc; margin: 20px; padding: 15px; border-radius: 5px;\">\n",
    "    <strong>📓 Submission:</strong> When your notebook is complete in Google Colab, go to <em>File > Download</em> and choose <code>.ipynb</code>. The completed file should be uploaded to Blackboard under assignments for MATE70026.\n",
    "</div>"
   ]
  },
  {
   "cell_type": "markdown",
   "metadata": {
    "id": "BZfqPL6zifCa",
    "tags": []
   },
   "source": [
    "## 🌊 Dive deeper\n",
    "\n",
    "* _Level 1:_ Read Chapter 1 of [Machine Learning Refined](https://github.com/neonwatty/machine_learning_refined) for a complementary introduction to the field.\n",
    "\n",
    "* _Level 2:_ Taylor Sparks has a collection of video lectures on [Python for Materials Engineers](https://www.youtube.com/watch?v=tn1wpfpLx6Y&list=PLL0SWcFqypCmkHClksnGlab3wglEVMqNN&index=2).\n",
    "\n",
    "* _Level 3:_ If you are a matplotlib pro user, try [plotly](https://plotly.com/python) and [bokeh](https://docs.bokeh.org/en/2.4.1/docs/gallery.html) for interactive visualisations."
   ]
  }
 ],
 "metadata": {
  "colab": {
   "provenance": [],
   "toc_visible": true
  },
  "kernelspec": {
   "display_name": "vscode24",
   "language": "python",
   "name": "python3"
  },
  "language_info": {
   "codemirror_mode": {
    "name": "ipython",
    "version": 3
   },
   "file_extension": ".py",
   "mimetype": "text/x-python",
   "name": "python",
   "nbconvert_exporter": "python",
   "pygments_lexer": "ipython3",
   "version": "3.12.4"
  }
 },
 "nbformat": 4,
 "nbformat_minor": 4
}
