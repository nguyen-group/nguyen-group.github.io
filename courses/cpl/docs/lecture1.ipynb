{
 "cells": [
  {
   "cell_type": "markdown",
   "metadata": {
    "id": "uDQYZDh0ciGP"
   },
   "source": [
    "# 1. Introduction Python"
   ]
  },
  {
   "cell_type": "markdown",
   "metadata": {
    "id": "qlQmXeW3ciGS"
   },
   "source": [
    "<iframe class=\"speakerdeck-iframe\" frameborder=\"0\" src=\"https://speakerdeck.com/player/c924f53441ed404f9baff428de3e2766\" title=\"CPL_Lecture_1_Intro\" allowfullscreen=\"true\" style=\"border: 0px; background: padding-box padding-box rgba(0, 0, 0, 0.1); margin: 0px; padding: 0px; border-radius: 6px; box-shadow: rgba(0, 0, 0, 0.2) 0px 5px 40px; width: 100%; height: auto; aspect-ratio: 560 / 315;\" data-ratio=\"1.7777777777777777\"></iframe>\n",
    "\n",
    "[Lecture slides](https://speakerdeck.com/nguyentuanhung/cpl-lecture-1-intro)"
   ]
  },
  {
   "cell_type": "markdown",
   "metadata": {
    "id": "aB6tYmdQciGS",
    "tags": []
   },
   "source": [
    "## 1.1. 👋 Getting started\n",
    "\n",
    "Welcome to our first lecture!\n",
    "\n",
    "### 📘 What Is a Programming Language?\n",
    "\n",
    "A **programming language** is a structured way to communicate instructions in a way computers can understand. It allows humans to write commands that computers can interpret and execute. \n",
    "\n",
    "> There are many programming languages. But like spoken languages, some programming languages are easier to learn than others — and **Python** is one of the most beginner-friendly.\n",
    "\n",
    "\n",
    "### 📋 Key Characteristics\n",
    "\n",
    "##### - **Syntax**:\n",
    "The rules that define the structure and format of code. _Example_: `if (x > 0) { ... }` is valid syntax in many languages.\n",
    "\n",
    "##### - **Semantics**:\n",
    "The meaning behind the syntax—what the code does when run.\n",
    "\n",
    "##### - **Abstractions**:\n",
    "Features like variables, functions, loops, and objects that help programmers build complex systems more easily.\n",
    "\n",
    "\n",
    "### 🧩 Types of Programming Languages\n",
    "\n",
    "#### 🔹 High-Level Languages\n",
    "Languages like **Python**, **Java**, and **C++** are easier to to read, write, and understand. **Python**, in particular, is known for being almost like English.\n",
    "\n",
    "#### 🔹 Low-Level Languages\n",
    "Languages like **Assembly** or **C** are closer to the machine's binary instructions and offer more control. or C. These give you much more control over the computer, but they’re much harder to write and understand.\n",
    "\n",
    "#### 🔹 Machine Languages\n",
    "It is just **pure binary**. This is what the computer actually understands. No one can write it directly.\n",
    "\n",
    "> In terms of language, machine and human are opposites; the language that is easy for humans to understand is hard for machines to understand, and vice versa.\n",
    "\n",
    "### 🧩 Programming Language Classification\n",
    "\n",
    "#### 🔹 Compiled Languages\n",
    "These are translated into machine code before running. **Examples:** `C`, `Rust`, `Go`\n",
    "\n",
    "#### 🔹 Interpreted Languages\n",
    "Executed line-by-line by an interpreter. **Examples:** `Python`, `JavaScript`, `Ruby`\n",
    "\n",
    "\n",
    "### 💡 Why Are Programming Languages Important?\n",
    "\n",
    "Programming languages are the foundation of all software. They allow us to:\n",
    "\n",
    "- Build websites and mobile apps\n",
    "- Build AI models\n",
    "- Analyze data and run scientific models  \n",
    "- Create games and simulations  \n",
    "- Control robots and hardware, etc.  \n",
    "\n",
    "---\n",
    "\n",
    "> 🗣️ **In short:** A programming language is how we tell computers what to do."
   ]
  },
  {
   "cell_type": "markdown",
   "metadata": {},
   "source": [
    "## 1.2. How Python Actually Works (Behind the Scenes)\n",
    "\n",
    "### 📌 Step-by-Step: What happens when you run a Python script?\n",
    "\n",
    "- **Step 1: You write code** \n",
    "\n",
    "   You save a `hello.py` file with Python code, like:\n",
    "\n",
    "   ```python\n",
    "   print(\"Hello, world!\")\n",
    "\n",
    "- **Step 2: The Python Interpreter is invoked**\n",
    "\n",
    "   When you run a script using `python hello.py`, the Python interpreter starts up.\n",
    "\n",
    "- **Step 3: Compilation to Bytecode**\n",
    "\n",
    "   The parse tree is converted into bytecode — a low-level, intermediate representation of your code. The bytecode is saved as `.pyc` files inside the `__pycache__` directory.\n",
    "\n",
    "- **Step 4: Execution by the Python Virtual Machine (PVM)**\n",
    "\n",
    "   This bytecode gets sent to a PVM (basically a mini-computer inside your computer). The PVM spits out the result in good old binary — 101001 — so your computer understands what to do.\n",
    "\n",
    "### ⚙️ Python Compiler (Interpreter)\n",
    "\n",
    "To run a Python script, we **only** do for **Step 1**. The **Steps 2, 3, and 4** are done through a compiler. There are several Python compiler as follows: \n",
    "\n",
    "| Implementation | Language Used | Performance      | Compilation Type     | Platform Integration     | Notes                                     |\n",
    "|----------------|---------------|------------------|-----------------------|---------------------------|-------------------------------------------|\n",
    "| **CPython (default)**    | C             | Moderate         | Bytecode (interpreted)| Native (cross-platform)  | Reference implementation; most widely used |\n",
    "| **PyPy**       | RPython       | High (with JIT)  | JIT Compilation       | Cross-platform            | Much faster for long-running programs      |\n",
    "| **Jython**     | Java          | Moderate         | Compiled to Java bytecode | JVM-based            | Integrates with Java libraries             |\n",
    "| **IronPython** | C#            | Moderate         | Compiled to .NET IL   | .NET/Mono                 | Works well with C# and .NET libraries      |\n",
    "| **MicroPython**| C             | Low              | Interpreted (lightweight) | Embedded systems      | Designed for microcontrollers              |\n",
    "| **Brython**    | JavaScript    | Low              | Transpiled to JS      | Web browsers              | Runs Python in the browser                 |"
   ]
  }
 ],
 "metadata": {
  "colab": {
   "provenance": [],
   "toc_visible": true
  },
  "kernelspec": {
   "display_name": "torch",
   "language": "python",
   "name": "python3"
  },
  "language_info": {
   "codemirror_mode": {
    "name": "ipython",
    "version": 3
   },
   "file_extension": ".py",
   "mimetype": "text/x-python",
   "name": "python",
   "nbconvert_exporter": "python",
   "pygments_lexer": "ipython3",
   "version": "3.10.9"
  }
 },
 "nbformat": 4,
 "nbformat_minor": 4
}
