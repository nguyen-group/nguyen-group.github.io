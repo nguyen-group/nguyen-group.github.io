{
 "cells": [
  {
   "cell_type": "markdown",
   "metadata": {
    "id": "uDQYZDh0ciGP"
   },
   "source": [
    "# 6. Hands-on tutorials of QE IV: Input generator"
   ]
  },
  {
   "cell_type": "markdown",
   "metadata": {
    "id": "qlQmXeW3ciGS"
   },
   "source": [
    "<iframe class=\"speakerdeck-iframe\" frameborder=\"0\" src=\"https://speakerdeck.com/player/7cb778632e284632a422339e390f5d06\" title=\"QE-SSP_Lecture_6_Generator\" allowfullscreen=\"true\" style=\"border: 0px; background: padding-box padding-box rgba(0, 0, 0, 0.1); margin: 0px; padding: 0px; border-radius: 6px; box-shadow: rgba(0, 0, 0, 0.2) 0px 5px 40px; width: 100%; height: auto; aspect-ratio: 560 / 315;\" data-ratio=\"1.7777777777777777\"></iframe>\n",
    "\n",
    "[Lecture slides](https://speakerdeck.com/nguyentuanhung/qe-ssp-lecture-6-generator)"
   ]
  }
 ],
 "metadata": {
  "colab": {
   "provenance": [],
   "toc_visible": true
  },
  "kernelspec": {
   "display_name": "torch",
   "language": "python",
   "name": "python3"
  },
  "language_info": {
   "codemirror_mode": {
    "name": "ipython",
    "version": 3
   },
   "file_extension": ".py",
   "mimetype": "text/x-python",
   "name": "python",
   "nbconvert_exporter": "python",
   "pygments_lexer": "ipython3",
   "version": "3.10.9"
  }
 },
 "nbformat": 4,
 "nbformat_minor": 4
}
