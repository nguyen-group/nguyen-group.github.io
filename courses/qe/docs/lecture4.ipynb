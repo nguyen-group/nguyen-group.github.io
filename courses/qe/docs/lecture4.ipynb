{
 "cells": [
  {
   "cell_type": "markdown",
   "metadata": {
    "id": "uDQYZDh0ciGP"
   },
   "source": [
    "# 4. Hands-on tutorials of QE II: Electron & Phonon"
   ]
  },
  {
   "cell_type": "markdown",
   "metadata": {
    "id": "qlQmXeW3ciGS"
   },
   "source": [
    "<iframe class=\"speakerdeck-iframe\" frameborder=\"0\" src=\"https://speakerdeck.com/player/3776ecd120244b169c6554af7931352a\" title=\"QE-SSP_Lecture_4_Electron_Phonon\" allowfullscreen=\"true\" style=\"border: 0px; background: padding-box padding-box rgba(0, 0, 0, 0.1); margin: 0px; padding: 0px; border-radius: 6px; box-shadow: rgba(0, 0, 0, 0.2) 0px 5px 40px; width: 100%; height: auto; aspect-ratio: 560 / 315;\" data-ratio=\"1.7777777777777777\"></iframe>\n",
    "\n",
    "[Lecture slides](https://speakerdeck.com/nguyentuanhung/qe-ssp-lecture-4-electron-phonon)"
   ]
  }
 ],
 "metadata": {
  "colab": {
   "provenance": [],
   "toc_visible": true
  },
  "kernelspec": {
   "display_name": "torch",
   "language": "python",
   "name": "python3"
  },
  "language_info": {
   "codemirror_mode": {
    "name": "ipython",
    "version": 3
   },
   "file_extension": ".py",
   "mimetype": "text/x-python",
   "name": "python",
   "nbconvert_exporter": "python",
   "pygments_lexer": "ipython3",
   "version": "3.10.9"
  }
 },
 "nbformat": 4,
 "nbformat_minor": 4
}
