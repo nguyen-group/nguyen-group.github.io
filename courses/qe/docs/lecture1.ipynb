{
 "cells": [
  {
   "cell_type": "markdown",
   "metadata": {
    "id": "uDQYZDh0ciGP"
   },
   "source": [
    "# 1. Introduction: DFT and QE"
   ]
  },
  {
   "cell_type": "markdown",
   "metadata": {
    "id": "qlQmXeW3ciGS"
   },
   "source": [
    "<iframe class=\"speakerdeck-iframe\" frameborder=\"0\" src=\"https://speakerdeck.com/player/f1786a20a8a44bcf8bcc7a8ac2ad2f48\" title=\"QE-SSP_Lecture_1_Intro\" allowfullscreen=\"true\" style=\"border: 0px; background: padding-box padding-box rgba(0, 0, 0, 0.1); margin: 0px; padding: 0px; border-radius: 6px; box-shadow: rgba(0, 0, 0, 0.2) 0px 5px 40px; width: 100%; height: auto; aspect-ratio: 560 / 315;\" data-ratio=\"1.7777777777777777\"></iframe>\n",
    "\n",
    "[Lecture slides](https://speakerdeck.com/nguyentuanhung/qe-ssp-lecture-1-intro)"
   ]
  },
  {
   "cell_type": "markdown",
   "metadata": {
    "id": "aB6tYmdQciGS",
    "tags": []
   },
   "source": [
    "## 1.1. 👋 Getting started\n",
    "\n",
    "Welcome to our first lecture!\n",
    "\n",
    "### 1.1.1. What is DFT?\n",
    "\n",
    "Density Functional Theory (DFT) is a computational quantum mechanical method used to calculate the ground state of the electronic structure of many-body systems, particularly atoms, molecules, and solids. Unlike traditional quantum mechanics methods, which solve the Schrödinger equation for the many-electron wavefunction, DFT simplifies the problem by focusing on the electron density (in 3 dimensions) rather than the wavefunction (in $3N$ dimensions for $N$ electrons).\n",
    "\n",
    "### 1.1.2. Functional\n",
    "\n",
    "A functional is a function whose argument is itself a function. $f(x)$ is a function of the variable $x$ while $F[f]$ is a functional of the function $f$.\n",
    "$$\n",
    "y = f(x)\n",
    "$$\n",
    "$f$ is a function, it takes a number $x$ as input and output $y$ is also a number.\n",
    "$$\n",
    "y = F[f(x)]\n",
    "$$\n",
    "$F$ is a functional it takes function $f(x)$ as input and output $y$ is a number.\n",
    "\n",
    "### 1.3. Functionals in DFT\n",
    "\n",
    "The term \"functional\" in DFT comes from the fact that the total energy is calculated from the electron density function (which is a function of space) through the use of various functionals that describe different aspects of the system's energy."
   ]
  },
  {
   "cell_type": "markdown",
   "metadata": {},
   "source": [
    "## 1.2. Hohenberg-Kohn Theorem\n",
    "\n",
    "<div style=\"background-color: #d4edda; border-left: 6px solid #ccc; margin: 20px; padding: 15px; border-radius: 5px;\">\n",
    "    <strong>📓 Reference:</strong> P. Hohenberg and W. Kohn, <a href=\"https://doi.org/10.1103/PhysRev.136.B864\">Inhomogeneous electron gas</a>, Phys. Rev. 136, B864 (1964).\n",
    "</div>\n",
    "\n",
    "<div style=\"border: 1px solid #2196F3; background-color: #E3F2FD; padding: 10px; border-radius: 5px;\">\n",
    "    <strong>Theorem:</strong> There is a one‐to‐one correspondence between an external potential $\\mathcal{V}_{en}(\\textbf{r})$ and an electron density $n(\\textbf{r})$.\n",
    "</div>\n",
    "\n",
    "Since the Hamiltonians is determined by the external potential, the Hohenberg-Kohn theorem tell us the two different Hamiltonian cannot have the same ground-state electron density. The theorem leads to two important consequences:\n",
    "\n",
    "<div style=\"border: 1px solid #b888b3; background-color: #f5e9f4; padding: 10px; border-radius: 5px;\">\n",
    "    <strong>Corollary 1:</strong> The electron density $n(\\textbf{r})$ uniquely specifies the external potential $\\mathcal{V}_{en}(\\textbf{r})$ and hence the Hamiltonian $\\mathcal{H}$.\n",
    "</div>\n",
    "\n",
    "The Schrödinger equation says how we can get the wavefunction from a given potential. Once solved the wavefunction (which could be difficul due to the high‐dimensional partial differential equation), we can determine the density or any other properties. Now Corollary 1 says the opposite is also true. For a given density, the potential can be uniquely determined. Thus, it is possible to define the ground-state energy as a function of electronic density.\n",
    "\n",
    "<div style=\"border: 1px solid #b888b3; background-color: #f5e9f4; padding: 10px; border-radius: 5px;\">\n",
    "    <strong>Corollary 2:</strong> The ground-state total energy can be obtained by minimizing an energy functional $E[n(\\textbf{r})]$ with respect to the electron density $n(\\textbf{r})$.\n",
    "</div>\n",
    "\n",
    "The ground state energy can therefore be found by minimizing $E[n(\\textbf{r})]$ instead of solving for the many-electron wavefunction. However, the Hohenberg-Kohn theorems do not tell us how the energy depends on the electron density. It is noted that the DFT can have an exact solution if and only if $E[n(\\textbf{r})]$ is known exactly. In reality, apart from some special cases, the exact $E[n(\\textbf{r})]$ is unknown and only approximate functionals are used."
   ]
  },
  {
   "cell_type": "markdown",
   "metadata": {},
   "source": [
    "## 1.3. Kohn-Sham equation\n",
    "\n",
    "<div style=\"background-color: #d4edda; border-left: 6px solid #ccc; margin: 20px; padding: 15px; border-radius: 5px;\">\n",
    "    <strong>📓 Reference:</strong> P. Hohenberg and W. Kohn, <a href=\"https://doi.org/10.1103/PhysRev.140.A1133\">Self-consistent equations including exchange and correlation effects</a>, Phys. Rev. 140, A1133  (1965).\n",
    "</div>\n",
    "\n",
    "For any system of $N$ interacting electrons in a given external potential $\\mathcal{V}_{en} (\\textbf{r})$ (i.e., Coulomb attraction between electrons and nuclei), there is a \"virtual system\" of $N$ non-interacting electrons with exactly the same density as the interacting one. The non-interacting electrons subjected to a effective external potential $\\mathcal{V}_{eff} (\\textbf{r})$ as:\n",
    "$$\n",
    "\\left[-\\frac{\\hbar^2 \\nabla^2}{2m} + \\mathcal{V}_{eff}(\\textbf{r}) \\right] \\psi_i(\\textbf{r})\n",
    "= \\epsilon_i \\psi_i(\\textbf{r}),\n",
    "$$\n",
    "where the effective external potential is given by:\n",
    "$$\n",
    "\\mathcal{V}_{eff}(\\textbf{r}) = \\mathcal{V}_{en}(\\textbf{r}) + \\mathcal{V}_{H}(\\textbf{r}) + \\mathcal{V}_{xc}(\\textbf{r}),\n",
    "$$\n",
    "where the Hartree potential, which describes electrostatic interaction of electronic cloud, is defined by:\n",
    "$$\n",
    "\\mathcal{V}_{H}(\\textbf{r}) = \\int \\frac{n(\\textbf{r})}{|\\textbf{r} - \\textbf{r}'|} \\mathrm{d}\\textbf{r}',\n",
    "$$\n",
    "and the electron density is given by: \n",
    "$$\n",
    "n(\\textbf{r}) = \\sum_i f_i |\\psi_i (\\textbf{r})|^2,\n",
    "$$\n",
    "where $f_i$ is the occupation factor of electrons ($0 \\le f_i \\le 1$). The Kohn-Sham equation looks like single particle Schrödinger equation, however $\\mathcal{V}_{H}(\\textbf{r})$ and $\\mathcal{V}_{xc}(\\textbf{r})$ (*exchange-correlation* potential, it includes all the remaining/unknown energy corrections) terms depend on $n(\\textbf{r})$ i.e., on $\\psi_i$ which in turn depends on $\\mathcal{V}_{en}(\\textbf{r})$. Therefore the problem is non-linear. It is usually solved computationally by starting from a trial potential and iterate to self-consistency\n",
    "\n",
    "### 1.3.1. Self-Consistent Solution\n",
    "\n",
    "The Kohn-Sham equations are solved iteratively:\n",
    "* Guess $n(\\textbf{r})$.\n",
    "* Calculate $\\mathcal{V}_{eff}(\\textbf{r})$.\n",
    "* Solve for $\\psi_i$ and update $n(\\textbf{r}) = \\sum_i f_i |\\psi_i (\\textbf{r})|^2$.\n",
    "* Repeat until convergence."
   ]
  },
  {
   "cell_type": "markdown",
   "metadata": {},
   "source": [
    "## 1.4. Exchange-correlation functional\n",
    "\n",
    "### 1.4.1. Local Density Approximation (LDA)\n",
    "<div style=\"background-color: #d4edda; border-left: 6px solid #ccc; margin: 20px; padding: 15px; border-radius: 5px;\">\n",
    "    <strong>📓 Reference:</strong> J. P. Perdew and A. Zunger, <a href=\"https://doi.org/10.1103/PhysRevB.23.5048\">Self-interaction correction to density-functional approximations for many-electron systems</a>, Phys. Rev. B 23, 5048 (1981).\n",
    "</div>\n",
    "\n",
    "The LDA is a widely used approximation the exchange-correlation energy of a system by assuming that the electronic density varies slowly and treating the local density as a uniform electron gas. In this case, the exchange-correlation energy at each point in space as being the same as that of a uniform electron gas with the same electron density at that point. Thus, the LDA is given by:\n",
    "\n",
    "$$\n",
    "E_{xc} = \\int n(\\textbf{r}) \\epsilon_{xc}(n(\\textbf{r})) d\\textbf{r}\n",
    "$$\n",
    "and \n",
    "$$\n",
    "\\mathcal{V}_{xc}(\\textbf{r}) = \\epsilon_{xc}(n(\\textbf{r})) + n(\\textbf{r})\\frac{d\\epsilon_{xc}(n)}{dn}\\bigg\\rvert_{n=n(\\textbf{r})},\n",
    "$$\n",
    "where $\\epsilon_{xc}(n)$ is the exchange-correlation energy per electron, which is obtained for the homogeneous electron gas of density $n$ (using Quantum Monte Carlo techniques) and fitted to some analytic form. LDA is computationally cheap compared to more advanced functionals, making it useful for large systems. However, the LDA can lead to inaccuracies in systems with rapidly varying densities (e.g., strongly correlated materials, surfaces, etc.).\n",
    "\n",
    "### 1.4.2. Generalized Gradient Approximation (GGA)\n",
    "<div style=\"background-color: #d4edda; border-left: 6px solid #ccc; margin: 20px; padding: 15px; border-radius: 5px;\">\n",
    "    <strong>📓 Reference:</strong> J. P. Perdew, K. Burke, and M. Ernzerhof, <a href=\"https://doi.org/10.1103/PhysRevLett.77.3865\">Generalized gradient approximation made simple</a>, Phys. Rev. Lett. 77, 3865 (1997).\n",
    "</div>\n",
    "\n",
    "The GGA is one of the approximations to the exchange-correlation energy functional, which improves the accuracy of exchange-correlation energy functionals by incorporating density gradients, going beyond the LDA. Thus, the GGA depends on both the local density and the local gradient of the density as:\n",
    "$$\n",
    "E_{xc} = \\int n(\\textbf{r}) \\epsilon_{GGA}(n(\\textbf{r}), |\\nabla n(\\textbf{r})|) d\\textbf{r}.\n",
    "$$\n",
    "\n",
    "Unlike LDA, GGA considers how the electron density varies in space, improving accuracy for inhomogeneous systems. However, both the LDA and GGA underestimate band gaps in semiconductors and insulators and often fail for van der Waals (dispersion) interactions. In oder to solve these issues, there are more advanced functionals: Meta-GGA (e.g., SCAN), hybrids (e.g., B3LYP), nonlocal functionals for van der Waals forces, Grimme's DFT+D (a semi-empirical correction to GGA). They usually produces more accurate result, but computationally more expensive and sometimes numerically unstable."
   ]
  },
  {
   "cell_type": "markdown",
   "metadata": {},
   "source": [
    "## 1.5. Quantum ESPRESSO\n",
    "\n",
    "Quantum ESPRESSO (QE) is one of the most used packages for first‐principles calculations with the DFT, and it has been developing continuously; thanks to its open‐source and excellent community support. The abbreviation **ESPRESSO** stands for **“ESPRESSO = opEn Source Package for Research in Electronic Structure, Simulation, and Optimization.”** It is completely **FREE** and easily installed on many platforms.\n",
    "\n",
    "We can install QE on our personal laptops or desktops to run relatively less computationally intensive calculations. **In particular, the almost of hands-on tutorials in this course can be run on a personal laptop**. However, if we intend to perform computationally heavy tasks, we will need access to better computing resources with a larger number of CPU (or GPU) cores, memory, bandwidth, and disk IO.\n",
    "\n",
    "### 1.5.1. Installing QE on Ubuntu\n",
    "\n",
    "Easiest way to install Quantum Espresso is from the package manager of respective Ubuntu distribution. This should work fine for us and this is recommended option for this course. Following commands are for Ubuntu/Debian:\n",
    "\n",
    "* Update list of repositories and upgrade the system\n",
    "\n",
    "```bash\n",
    "$ sudo apt update && sudo apt upgrade -y\n",
    "```\n",
    "\n",
    "* Important development tools and libraries: Git, wget, gcc/g++/gfortran, LAPACK, FFTW, openmpi (mpirun)\n",
    "\n",
    "```bash\n",
    "$ sudo apt install git wget build-essential -y\n",
    "$ sudo apt install g++ gfortran -y\n",
    "$ sudo apt install liblapack-dev libfftw3-dev libopenmpi-dev -y\n",
    "```\n",
    "\n",
    "* Quantum ESPRESSO and Wannier90 from apt repository\n",
    "\n",
    "```bash\n",
    "$ sudo apt install quantum-espresso wannier90 -y\n",
    "```\n",
    "\n",
    "* Additional tools\n",
    "\n",
    "```bash\n",
    "$ sudo apt install xcrysden gnuplot -y\n",
    "$ sudo apt install python3-dev jupyter-server -y\n",
    "$ sudo apt install python3-numpy python3-scipy python3-sympy python3-matplotlib -y\n",
    "```\n",
    "\n",
    "### 1.5.2. Installing QE on Windows\n",
    "\n",
    "For Windows, we recommend to use Windows subsystem for Linux (WSL) as follows:\n",
    "\n",
    "* Open PowerShell as Administrator and run:\n",
    "\n",
    "```bash\n",
    "$ wsl --install\n",
    "```\n",
    "\n",
    "* Restart your computer if needed.\n",
    "\n",
    "* Open the \"Windows Terminal\" and install a Linux distribution (Ubuntu is recommended).\n",
    "\n",
    "* Install QE for Ubuntu as shown above.\n",
    "\n",
    "A [Youtube video](https://www.youtube.com/watch?v=sJH1Q4Tl5WI) (not made by us) shows how to Quantum ESPRESSO 7.4 on Windows 11 (WSL2).\n",
    "\n",
    "### 1.5.3. Installing QE on MacOS\n",
    "\n",
    "We do not recommend using QE on macOS. I tested it on my MacBook Pro M1 and found it to be unstable. However, if you wish to install QE on a MacOS, you can refer to [https://github.com/nguyen-group/QE-SSP/discussions/9](https://github.com/nguyen-group/QE-SSP/discussions/9).\n",
    "\n",
    "### 1.5.4. Obtaining example files for this course\n",
    "\n",
    "We provide example input/output files of QE calculations on the GitHub. You can download them by using the following command:\n",
    "\n",
    "```bash\n",
    "$ git clone https://github.com/nguyen-group/QE-SSP.git\n",
    "```"
   ]
  },
  {
   "cell_type": "markdown",
   "metadata": {
    "id": "2D92BAYzciGa"
   },
   "source": [
    "## 1.6. Exercise\n",
    "* Install QE on your PC."
   ]
  },
  {
   "cell_type": "markdown",
   "metadata": {
    "id": "BZfqPL6zifCa",
    "tags": []
   },
   "source": [
    "## 1.7. Dive deeper\n",
    "\n",
    "* _Level 1:_ Read Chapter 4 of \"Quantum ESPRESSO for Solid State Physics\" book for understanding DFT.\n",
    "\n",
    "* _Level 2:_ Install Intel OneAPI Base Toolkit, then install QE with Intel MKL for optimized performance."
   ]
  }
 ],
 "metadata": {
  "colab": {
   "provenance": [],
   "toc_visible": true
  },
  "kernelspec": {
   "display_name": "torch",
   "language": "python",
   "name": "python3"
  },
  "language_info": {
   "codemirror_mode": {
    "name": "ipython",
    "version": 3
   },
   "file_extension": ".py",
   "mimetype": "text/x-python",
   "name": "python",
   "nbconvert_exporter": "python",
   "pygments_lexer": "ipython3",
   "version": "3.10.9"
  }
 },
 "nbformat": 4,
 "nbformat_minor": 4
}
